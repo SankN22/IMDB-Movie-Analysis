{
 "cells": [
  {
   "cell_type": "code",
   "execution_count": 1,
   "id": "63cfee7c",
   "metadata": {},
   "outputs": [],
   "source": [
    "import pandas as pd   \n",
    "import requests       \n",
    "from bs4 import BeautifulSoup \n",
    "import numpy as np \n",
    "import re"
   ]
  },
  {
   "cell_type": "code",
   "execution_count": 2,
   "id": "85de719b",
   "metadata": {},
   "outputs": [],
   "source": [
    "movie_DF1 = pd.read_csv('Movie_Data.csv')"
   ]
  },
  {
   "cell_type": "code",
   "execution_count": 3,
   "id": "43e87ca9",
   "metadata": {},
   "outputs": [],
   "source": [
    "movie_DF1.drop(movie_DF1[movie_DF1['Metascore'] == \"^^^^^^\"].index, inplace = True)"
   ]
  },
  {
   "cell_type": "code",
   "execution_count": 4,
   "id": "102ec9ba",
   "metadata": {},
   "outputs": [],
   "source": [
    "movie_DF1.drop(movie_DF1[movie_DF1['Gross collection'] == \"*****\"].index, inplace = True)"
   ]
  },
  {
   "cell_type": "code",
   "execution_count": 5,
   "id": "58f849ff",
   "metadata": {},
   "outputs": [],
   "source": [
    "movie_DF1=movie_DF1.drop(['Description'], axis=1)"
   ]
  },
  {
   "cell_type": "code",
   "execution_count": 6,
   "id": "d516cdf4",
   "metadata": {},
   "outputs": [],
   "source": [
    "movie_DF1=movie_DF1.drop(['Gross collection'], axis=1)"
   ]
  },
  {
   "cell_type": "code",
   "execution_count": 7,
   "id": "fd24f9e8",
   "metadata": {},
   "outputs": [],
   "source": [
    "movie_DF1=movie_DF1.drop(['Watchtime'], axis=1)"
   ]
  },
  {
   "cell_type": "code",
   "execution_count": 8,
   "id": "6c74495c",
   "metadata": {},
   "outputs": [],
   "source": [
    "movie_DF1=movie_DF1.drop(['Votes'], axis=1)"
   ]
  },
  {
   "cell_type": "code",
   "execution_count": 9,
   "id": "33b0784a",
   "metadata": {},
   "outputs": [
    {
     "data": {
      "text/html": [
       "<div>\n",
       "<style scoped>\n",
       "    .dataframe tbody tr th:only-of-type {\n",
       "        vertical-align: middle;\n",
       "    }\n",
       "\n",
       "    .dataframe tbody tr th {\n",
       "        vertical-align: top;\n",
       "    }\n",
       "\n",
       "    .dataframe thead th {\n",
       "        text-align: right;\n",
       "    }\n",
       "</style>\n",
       "<table border=\"1\" class=\"dataframe\">\n",
       "  <thead>\n",
       "    <tr style=\"text-align: right;\">\n",
       "      <th></th>\n",
       "      <th>Unnamed: 0</th>\n",
       "      <th>Name of movie</th>\n",
       "      <th>Year of release</th>\n",
       "      <th>Genre</th>\n",
       "      <th>Movie Rating</th>\n",
       "      <th>Metascore</th>\n",
       "      <th>Director</th>\n",
       "      <th>Star</th>\n",
       "    </tr>\n",
       "  </thead>\n",
       "  <tbody>\n",
       "    <tr>\n",
       "      <th>0</th>\n",
       "      <td>0</td>\n",
       "      <td>The Shawshank Redemption</td>\n",
       "      <td>1994</td>\n",
       "      <td>Drama</td>\n",
       "      <td>9.3</td>\n",
       "      <td>82</td>\n",
       "      <td>Frank Darabont</td>\n",
       "      <td>['Tim Robbins', 'Morgan Freeman', 'Bob Gunton'...</td>\n",
       "    </tr>\n",
       "    <tr>\n",
       "      <th>1</th>\n",
       "      <td>1</td>\n",
       "      <td>The Godfather</td>\n",
       "      <td>1972</td>\n",
       "      <td>Crime,Drama</td>\n",
       "      <td>9.2</td>\n",
       "      <td>100</td>\n",
       "      <td>Francis Ford Coppola</td>\n",
       "      <td>['Marlon Brando', 'Al Pacino', 'James Caan', '...</td>\n",
       "    </tr>\n",
       "    <tr>\n",
       "      <th>2</th>\n",
       "      <td>2</td>\n",
       "      <td>The Dark Knight</td>\n",
       "      <td>2008</td>\n",
       "      <td>Action,Crime,Drama</td>\n",
       "      <td>9.0</td>\n",
       "      <td>84</td>\n",
       "      <td>Christopher Nolan</td>\n",
       "      <td>['Christian Bale', 'Heath Ledger', 'Aaron Eckh...</td>\n",
       "    </tr>\n",
       "    <tr>\n",
       "      <th>3</th>\n",
       "      <td>3</td>\n",
       "      <td>Schindler's List</td>\n",
       "      <td>1993</td>\n",
       "      <td>Biography,Drama,History</td>\n",
       "      <td>9.0</td>\n",
       "      <td>95</td>\n",
       "      <td>Steven Spielberg</td>\n",
       "      <td>['Liam Neeson', 'Ralph Fiennes', 'Ben Kingsley...</td>\n",
       "    </tr>\n",
       "    <tr>\n",
       "      <th>4</th>\n",
       "      <td>4</td>\n",
       "      <td>12 Angry Men</td>\n",
       "      <td>1957</td>\n",
       "      <td>Crime,Drama</td>\n",
       "      <td>9.0</td>\n",
       "      <td>97</td>\n",
       "      <td>Sidney Lumet</td>\n",
       "      <td>['Henry Fonda', 'Lee J. Cobb', 'Martin Balsam'...</td>\n",
       "    </tr>\n",
       "    <tr>\n",
       "      <th>...</th>\n",
       "      <td>...</td>\n",
       "      <td>...</td>\n",
       "      <td>...</td>\n",
       "      <td>...</td>\n",
       "      <td>...</td>\n",
       "      <td>...</td>\n",
       "      <td>...</td>\n",
       "      <td>...</td>\n",
       "    </tr>\n",
       "    <tr>\n",
       "      <th>7908</th>\n",
       "      <td>7908</td>\n",
       "      <td>Dragonball Evolution</td>\n",
       "      <td>2009</td>\n",
       "      <td>Action,Adventure,Fantasy</td>\n",
       "      <td>2.5</td>\n",
       "      <td>45</td>\n",
       "      <td>James Wong</td>\n",
       "      <td>['Justin Chatwin', 'James Marsters', 'Chow Yun...</td>\n",
       "    </tr>\n",
       "    <tr>\n",
       "      <th>7909</th>\n",
       "      <td>7909</td>\n",
       "      <td>Battlefield Earth</td>\n",
       "      <td>2000</td>\n",
       "      <td>Action,Adventure,Sci-Fi</td>\n",
       "      <td>2.5</td>\n",
       "      <td>9</td>\n",
       "      <td>Roger Christian</td>\n",
       "      <td>['John Travolta', 'Forest Whitaker', 'Barry Pe...</td>\n",
       "    </tr>\n",
       "    <tr>\n",
       "      <th>7911</th>\n",
       "      <td>7911</td>\n",
       "      <td>Epic Movie</td>\n",
       "      <td>2007</td>\n",
       "      <td>Adventure,Comedy,Fantasy</td>\n",
       "      <td>2.4</td>\n",
       "      <td>17</td>\n",
       "      <td>Directors:Jason Friedberg, Aaron Seltzer</td>\n",
       "      <td>['Kal Penn', 'Jennifer Coolidge', 'Fred Willar...</td>\n",
       "    </tr>\n",
       "    <tr>\n",
       "      <th>7912</th>\n",
       "      <td>7912</td>\n",
       "      <td>Son of the Mask</td>\n",
       "      <td>2005</td>\n",
       "      <td>Comedy,Family,Fantasy</td>\n",
       "      <td>2.2</td>\n",
       "      <td>20</td>\n",
       "      <td>Lawrence Guterman</td>\n",
       "      <td>['Jamie Kennedy', 'Traylor Howard', 'Alan Cumm...</td>\n",
       "    </tr>\n",
       "    <tr>\n",
       "      <th>7914</th>\n",
       "      <td>7914</td>\n",
       "      <td>Disaster Movie</td>\n",
       "      <td>2008</td>\n",
       "      <td>Comedy,Sci-Fi</td>\n",
       "      <td>1.9</td>\n",
       "      <td>15</td>\n",
       "      <td>Directors:Jason Friedberg, Aaron Seltzer</td>\n",
       "      <td>['Carmen Electra', 'Vanessa Lachey', 'Nicole P...</td>\n",
       "    </tr>\n",
       "  </tbody>\n",
       "</table>\n",
       "<p>6934 rows × 8 columns</p>\n",
       "</div>"
      ],
      "text/plain": [
       "      Unnamed: 0             Name of movie Year of release  \\\n",
       "0              0  The Shawshank Redemption            1994   \n",
       "1              1             The Godfather            1972   \n",
       "2              2           The Dark Knight            2008   \n",
       "3              3          Schindler's List            1993   \n",
       "4              4              12 Angry Men            1957   \n",
       "...          ...                       ...             ...   \n",
       "7908        7908      Dragonball Evolution            2009   \n",
       "7909        7909         Battlefield Earth            2000   \n",
       "7911        7911                Epic Movie            2007   \n",
       "7912        7912           Son of the Mask            2005   \n",
       "7914        7914            Disaster Movie            2008   \n",
       "\n",
       "                         Genre  Movie Rating Metascore  \\\n",
       "0                        Drama           9.3        82   \n",
       "1                  Crime,Drama           9.2       100   \n",
       "2           Action,Crime,Drama           9.0        84   \n",
       "3      Biography,Drama,History           9.0        95   \n",
       "4                  Crime,Drama           9.0        97   \n",
       "...                        ...           ...       ...   \n",
       "7908  Action,Adventure,Fantasy           2.5        45   \n",
       "7909   Action,Adventure,Sci-Fi           2.5         9   \n",
       "7911  Adventure,Comedy,Fantasy           2.4        17   \n",
       "7912     Comedy,Family,Fantasy           2.2        20   \n",
       "7914             Comedy,Sci-Fi           1.9        15   \n",
       "\n",
       "                                      Director  \\\n",
       "0                               Frank Darabont   \n",
       "1                         Francis Ford Coppola   \n",
       "2                            Christopher Nolan   \n",
       "3                             Steven Spielberg   \n",
       "4                                 Sidney Lumet   \n",
       "...                                        ...   \n",
       "7908                                James Wong   \n",
       "7909                           Roger Christian   \n",
       "7911  Directors:Jason Friedberg, Aaron Seltzer   \n",
       "7912                         Lawrence Guterman   \n",
       "7914  Directors:Jason Friedberg, Aaron Seltzer   \n",
       "\n",
       "                                                   Star  \n",
       "0     ['Tim Robbins', 'Morgan Freeman', 'Bob Gunton'...  \n",
       "1     ['Marlon Brando', 'Al Pacino', 'James Caan', '...  \n",
       "2     ['Christian Bale', 'Heath Ledger', 'Aaron Eckh...  \n",
       "3     ['Liam Neeson', 'Ralph Fiennes', 'Ben Kingsley...  \n",
       "4     ['Henry Fonda', 'Lee J. Cobb', 'Martin Balsam'...  \n",
       "...                                                 ...  \n",
       "7908  ['Justin Chatwin', 'James Marsters', 'Chow Yun...  \n",
       "7909  ['John Travolta', 'Forest Whitaker', 'Barry Pe...  \n",
       "7911  ['Kal Penn', 'Jennifer Coolidge', 'Fred Willar...  \n",
       "7912  ['Jamie Kennedy', 'Traylor Howard', 'Alan Cumm...  \n",
       "7914  ['Carmen Electra', 'Vanessa Lachey', 'Nicole P...  \n",
       "\n",
       "[6934 rows x 8 columns]"
      ]
     },
     "execution_count": 9,
     "metadata": {},
     "output_type": "execute_result"
    }
   ],
   "source": [
    "check_columns=['Genre']\n",
    "movie_DF1.replace({\"\\n\":\"\"},regex=True)"
   ]
  },
  {
   "cell_type": "code",
   "execution_count": 10,
   "id": "d96f3ad8",
   "metadata": {},
   "outputs": [],
   "source": [
    "def remove_prefix(df, column_name, prefix):\n",
    "    df[column_name] = df[column_name].str.replace(prefix, '')\n",
    "    return df\n",
    "movie_DF1= remove_prefix(movie_DF1, 'Director', 'Directors:')"
   ]
  },
  {
   "cell_type": "code",
   "execution_count": 11,
   "id": "4027076d",
   "metadata": {},
   "outputs": [],
   "source": [
    "def remove_pipe_regex(df, column_name):\n",
    "    df[column_name] = df[column_name].apply(lambda x: re.sub('I', '', x))\n",
    "    return df\n",
    "movie_DF1 = remove_pipe_regex(movie_DF1, 'Year of release')"
   ]
  },
  {
   "cell_type": "code",
   "execution_count": 12,
   "id": "61ba76ce",
   "metadata": {},
   "outputs": [],
   "source": [
    "def comma_separated_to_list(df, column_name):\n",
    "    df[column_name] = df[column_name].str.split(',').apply(lambda x: [y.strip() for y in x])\n",
    "    return df\n",
    "movie_DF1 = comma_separated_to_list(movie_DF1, 'Director')"
   ]
  },
  {
   "cell_type": "code",
   "execution_count": 13,
   "id": "87a589dd",
   "metadata": {},
   "outputs": [],
   "source": [
    "def split_values_to_list(df, column_name):\n",
    "    df[column_name] = df[column_name].apply(lambda x: x.split(','))\n",
    "    return df\n",
    "movie_DF1 = split_values_to_list(movie_DF1, 'Genre')"
   ]
  },
  {
   "cell_type": "code",
   "execution_count": 14,
   "id": "600377ec",
   "metadata": {},
   "outputs": [],
   "source": [
    "def remove_leading_spaces(df, column_name):\n",
    "    df[column_name] = df[column_name].str.strip()\n",
    "    return df\n",
    "movie_DF1=remove_leading_spaces(movie_DF1,'Year of release')"
   ]
  },
  {
   "cell_type": "code",
   "execution_count": 15,
   "id": "0a0b1248",
   "metadata": {},
   "outputs": [],
   "source": [
    "movie_DF1.to_csv('Movie_Data.csv')"
   ]
  }
 ],
 "metadata": {
  "kernelspec": {
   "display_name": "Python 3",
   "language": "python",
   "name": "python3"
  },
  "language_info": {
   "codemirror_mode": {
    "name": "ipython",
    "version": 3
   },
   "file_extension": ".py",
   "mimetype": "text/x-python",
   "name": "python",
   "nbconvert_exporter": "python",
   "pygments_lexer": "ipython3",
   "version": "3.8.8"
  }
 },
 "nbformat": 4,
 "nbformat_minor": 5
}
